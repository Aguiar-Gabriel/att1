{
 "cells": [
  {
   "cell_type": "markdown",
   "id": "bcb0410c",
   "metadata": {},
   "source": [
    "Atividade 02\n",
    "Vamos praticar a criação de várias expectativas para um dataset público. Para isso, vamos utilizar o dataset Titanic disponível no Kaggle. Este dataset contém informações sobre os passageiros do navio Titanic, incluindo informações como nome, idade, sexo, classe da cabine e se sobreviveram ou não ao naufrágio."
   ]
  },
  {
   "cell_type": "code",
   "execution_count": 2,
   "id": "42b3f579",
   "metadata": {},
   "outputs": [],
   "source": [
    "import pandas as pd"
   ]
  },
  {
   "cell_type": "code",
   "execution_count": 3,
   "id": "cab0bb1a",
   "metadata": {
    "scrolled": true
   },
   "outputs": [],
   "source": [
    "df=pd.read_csv('C:/Users/gabri/Downloads/train.csv')"
   ]
  },
  {
   "cell_type": "code",
   "execution_count": 4,
   "id": "9394e987",
   "metadata": {
    "scrolled": true
   },
   "outputs": [
    {
     "name": "stdout",
     "output_type": "stream",
     "text": [
      "<class 'pandas.core.frame.DataFrame'>\n",
      "RangeIndex: 627 entries, 0 to 626\n",
      "Data columns (total 10 columns):\n",
      " #   Column              Non-Null Count  Dtype  \n",
      "---  ------              --------------  -----  \n",
      " 0   survived            627 non-null    int64  \n",
      " 1   sex                 627 non-null    object \n",
      " 2   age                 627 non-null    float64\n",
      " 3   n_siblings_spouses  627 non-null    int64  \n",
      " 4   parch               627 non-null    int64  \n",
      " 5   fare                627 non-null    float64\n",
      " 6   class               627 non-null    object \n",
      " 7   deck                627 non-null    object \n",
      " 8   embark_town         627 non-null    object \n",
      " 9   alone               627 non-null    object \n",
      "dtypes: float64(2), int64(3), object(5)\n",
      "memory usage: 49.1+ KB\n"
     ]
    }
   ],
   "source": [
    "df.info()"
   ]
  },
  {
   "cell_type": "code",
   "execution_count": 6,
   "id": "a1165631",
   "metadata": {},
   "outputs": [
    {
     "data": {
      "text/html": [
       "<div>\n",
       "<style scoped>\n",
       "    .dataframe tbody tr th:only-of-type {\n",
       "        vertical-align: middle;\n",
       "    }\n",
       "\n",
       "    .dataframe tbody tr th {\n",
       "        vertical-align: top;\n",
       "    }\n",
       "\n",
       "    .dataframe thead th {\n",
       "        text-align: right;\n",
       "    }\n",
       "</style>\n",
       "<table border=\"1\" class=\"dataframe\">\n",
       "  <thead>\n",
       "    <tr style=\"text-align: right;\">\n",
       "      <th></th>\n",
       "      <th>survived</th>\n",
       "      <th>sex</th>\n",
       "      <th>age</th>\n",
       "      <th>n_siblings_spouses</th>\n",
       "      <th>parch</th>\n",
       "      <th>fare</th>\n",
       "      <th>class</th>\n",
       "      <th>deck</th>\n",
       "      <th>embark_town</th>\n",
       "      <th>alone</th>\n",
       "    </tr>\n",
       "  </thead>\n",
       "  <tbody>\n",
       "    <tr>\n",
       "      <th>0</th>\n",
       "      <td>0</td>\n",
       "      <td>male</td>\n",
       "      <td>22.0</td>\n",
       "      <td>1</td>\n",
       "      <td>0</td>\n",
       "      <td>7.2500</td>\n",
       "      <td>Third</td>\n",
       "      <td>unknown</td>\n",
       "      <td>Southampton</td>\n",
       "      <td>n</td>\n",
       "    </tr>\n",
       "    <tr>\n",
       "      <th>1</th>\n",
       "      <td>1</td>\n",
       "      <td>female</td>\n",
       "      <td>38.0</td>\n",
       "      <td>1</td>\n",
       "      <td>0</td>\n",
       "      <td>71.2833</td>\n",
       "      <td>First</td>\n",
       "      <td>C</td>\n",
       "      <td>Cherbourg</td>\n",
       "      <td>n</td>\n",
       "    </tr>\n",
       "    <tr>\n",
       "      <th>2</th>\n",
       "      <td>1</td>\n",
       "      <td>female</td>\n",
       "      <td>26.0</td>\n",
       "      <td>0</td>\n",
       "      <td>0</td>\n",
       "      <td>7.9250</td>\n",
       "      <td>Third</td>\n",
       "      <td>unknown</td>\n",
       "      <td>Southampton</td>\n",
       "      <td>y</td>\n",
       "    </tr>\n",
       "    <tr>\n",
       "      <th>3</th>\n",
       "      <td>1</td>\n",
       "      <td>female</td>\n",
       "      <td>35.0</td>\n",
       "      <td>1</td>\n",
       "      <td>0</td>\n",
       "      <td>53.1000</td>\n",
       "      <td>First</td>\n",
       "      <td>C</td>\n",
       "      <td>Southampton</td>\n",
       "      <td>n</td>\n",
       "    </tr>\n",
       "    <tr>\n",
       "      <th>4</th>\n",
       "      <td>0</td>\n",
       "      <td>male</td>\n",
       "      <td>28.0</td>\n",
       "      <td>0</td>\n",
       "      <td>0</td>\n",
       "      <td>8.4583</td>\n",
       "      <td>Third</td>\n",
       "      <td>unknown</td>\n",
       "      <td>Queenstown</td>\n",
       "      <td>y</td>\n",
       "    </tr>\n",
       "  </tbody>\n",
       "</table>\n",
       "</div>"
      ],
      "text/plain": [
       "   survived     sex   age  n_siblings_spouses  parch     fare  class     deck  \\\n",
       "0         0    male  22.0                   1      0   7.2500  Third  unknown   \n",
       "1         1  female  38.0                   1      0  71.2833  First        C   \n",
       "2         1  female  26.0                   0      0   7.9250  Third  unknown   \n",
       "3         1  female  35.0                   1      0  53.1000  First        C   \n",
       "4         0    male  28.0                   0      0   8.4583  Third  unknown   \n",
       "\n",
       "   embark_town alone  \n",
       "0  Southampton     n  \n",
       "1    Cherbourg     n  \n",
       "2  Southampton     y  \n",
       "3  Southampton     n  \n",
       "4   Queenstown     y  "
      ]
     },
     "execution_count": 6,
     "metadata": {},
     "output_type": "execute_result"
    }
   ],
   "source": [
    "df.head()"
   ]
  },
  {
   "cell_type": "markdown",
   "id": "83630a04",
   "metadata": {},
   "source": [
    "2. Definindo expectativas\n",
    "Agora que temos o dataframe, podemos começar a criar expectativas sobre os dados.\n",
    "\n",
    "2.1 Crie uma expectativa que defina que as colunas do dataframe estão na ordem correta."
   ]
  },
  {
   "cell_type": "markdown",
   "id": "8a963773",
   "metadata": {},
   "source": [
    "Uma expectativa razoável é que as colunas estejam na ordem em que foram apresentadas na descrição do dataframe, ou seja:\n",
    "\n",
    "survived, sex, age, n_siblings_spouses, parch, fare, class, deck, embark_town, alone\n",
    "\n",
    "Portanto, podemos esperar que a primeira coluna do dataframe seja survived, a segunda coluna seja sex, a terceira coluna seja age, e assim por diante, até a última coluna ser alone."
   ]
  },
  {
   "cell_type": "markdown",
   "id": "88aa9d7f",
   "metadata": {},
   "source": [
    "Uma expectativa razoável é que a coluna \"Survived\" só contenha valores binários, ou seja, 0 ou 1, que indicam se o passageiro não sobreviveu ou sobreviveu, respectivamente. Portanto, podemos esperar que todos os valores da coluna \"Survived\" sejam iguais a 0 ou 1, sem nenhum outro valor. Podemos verificar isso usando o método value_counts() da coluna \"Survived\" e esperar que ele retorne apenas duas entradas, uma para cada valor binário.\n",
    "\n",
    "\n",
    "\n"
   ]
  },
  {
   "cell_type": "code",
   "execution_count": 12,
   "id": "c6232321",
   "metadata": {},
   "outputs": [
    {
     "data": {
      "text/plain": [
       "array([3, 1, 2], dtype=int64)"
      ]
     },
     "execution_count": 12,
     "metadata": {},
     "output_type": "execute_result"
    }
   ],
   "source": [
    "df['class'].unique()"
   ]
  },
  {
   "cell_type": "code",
   "execution_count": 10,
   "id": "99820d72",
   "metadata": {},
   "outputs": [],
   "source": [
    "df['class'] = df['class'].replace({'First': 1, 'Second': 2, 'Third': 3})\n"
   ]
  },
  {
   "cell_type": "markdown",
   "id": "61da7a89",
   "metadata": {},
   "source": [
    "Uma expectativa razoável é que as colunas \"Age\" e \"Fare\" não contenham valores nulos e que seus valores estejam dentro de um intervalo razoável. Para a coluna \"Age\", podemos esperar que seus valores estejam dentro do intervalo de 0 a 100 anos. Para a coluna \"Fare\", podemos esperar que seus valores estejam dentro do intervalo de 0 a 100 unidades monetárias (que não está especificada no dataframe). Podemos verificar isso usando o método describe() para as colunas \"Age\" e \"Fare\" e verificando se seus valores mínimo e máximo estão dentro dos intervalos desejados. Além disso, podemos usar o método isnull() para verificar se há valores nulos nessas colunas."
   ]
  },
  {
   "cell_type": "code",
   "execution_count": 14,
   "id": "b288e7a6",
   "metadata": {},
   "outputs": [
    {
     "data": {
      "text/plain": [
       "0        male\n",
       "1      female\n",
       "2      female\n",
       "3      female\n",
       "4        male\n",
       "        ...  \n",
       "622      male\n",
       "623      male\n",
       "624    female\n",
       "625    female\n",
       "626      male\n",
       "Name: sex, Length: 627, dtype: object"
      ]
     },
     "execution_count": 14,
     "metadata": {},
     "output_type": "execute_result"
    }
   ],
   "source": [
    "df['sex']"
   ]
  },
  {
   "cell_type": "markdown",
   "id": "a9482e62",
   "metadata": {},
   "source": [
    "Uma expectativa razoável é que a coluna \"Sex\" só contenha os valores \"male\" ou \"female\", que representam o gênero do passageiro. Portanto, podemos esperar que todos os valores da coluna \"Sex\" sejam iguais a \"male\" ou \"female\", sem nenhum outro valor. Podemos verificar isso usando o método unique() da coluna \"Sex\" e esperar que ele retorne apenas dois valores únicos, \"male\" e \"female\". Além disso, podemos usar o método value_counts() para contar quantos valores de \"male\" e \"female\" existem na coluna \"Sex\"."
   ]
  },
  {
   "cell_type": "code",
   "execution_count": null,
   "id": "0c690dde",
   "metadata": {},
   "outputs": [],
   "source": []
  }
 ],
 "metadata": {
  "kernelspec": {
   "display_name": "Python 3 (ipykernel)",
   "language": "python",
   "name": "python3"
  },
  "language_info": {
   "codemirror_mode": {
    "name": "ipython",
    "version": 3
   },
   "file_extension": ".py",
   "mimetype": "text/x-python",
   "name": "python",
   "nbconvert_exporter": "python",
   "pygments_lexer": "ipython3",
   "version": "3.9.12"
  }
 },
 "nbformat": 4,
 "nbformat_minor": 5
}
